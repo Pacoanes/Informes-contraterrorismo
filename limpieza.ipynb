{
 "cells": [
  {
   "cell_type": "code",
   "execution_count": 43,
   "metadata": {},
   "outputs": [
    {
     "data": {
      "text/html": [
       "<div>\n",
       "<style scoped>\n",
       "    .dataframe tbody tr th:only-of-type {\n",
       "        vertical-align: middle;\n",
       "    }\n",
       "\n",
       "    .dataframe tbody tr th {\n",
       "        vertical-align: top;\n",
       "    }\n",
       "\n",
       "    .dataframe thead th {\n",
       "        text-align: right;\n",
       "    }\n",
       "</style>\n",
       "<table border=\"1\" class=\"dataframe\">\n",
       "  <thead>\n",
       "    <tr style=\"text-align: right;\">\n",
       "      <th></th>\n",
       "      <th>iyear</th>\n",
       "      <th>mes</th>\n",
       "      <th>extended</th>\n",
       "      <th>country</th>\n",
       "      <th>NCountry</th>\n",
       "      <th>region</th>\n",
       "      <th>region</th>\n",
       "      <th>provstate</th>\n",
       "      <th>latitude</th>\n",
       "      <th>longitude</th>\n",
       "      <th>attacktype1_txt</th>\n",
       "      <th>gname</th>\n",
       "      <th>weaptype1_txt</th>\n",
       "      <th>killed</th>\n",
       "      <th>herido</th>\n",
       "      <th>afectados</th>\n",
       "    </tr>\n",
       "  </thead>\n",
       "  <tbody>\n",
       "    <tr>\n",
       "      <th>0</th>\n",
       "      <td>1970</td>\n",
       "      <td>7</td>\n",
       "      <td>0</td>\n",
       "      <td>58</td>\n",
       "      <td>Dominican Republic</td>\n",
       "      <td>2</td>\n",
       "      <td>Central America &amp; Caribbean</td>\n",
       "      <td>NaN</td>\n",
       "      <td>18.456792</td>\n",
       "      <td>-69.951164</td>\n",
       "      <td>Assassination</td>\n",
       "      <td>MANO-D</td>\n",
       "      <td>Unknown</td>\n",
       "      <td>1.0</td>\n",
       "      <td>0.0</td>\n",
       "      <td>1.0</td>\n",
       "    </tr>\n",
       "    <tr>\n",
       "      <th>1</th>\n",
       "      <td>1970</td>\n",
       "      <td>0</td>\n",
       "      <td>0</td>\n",
       "      <td>130</td>\n",
       "      <td>Mexico</td>\n",
       "      <td>1</td>\n",
       "      <td>North America</td>\n",
       "      <td>Federal</td>\n",
       "      <td>19.371887</td>\n",
       "      <td>-99.086624</td>\n",
       "      <td>Hostage Taking (Kidnapping)</td>\n",
       "      <td>23rd of September Communist League</td>\n",
       "      <td>Unknown</td>\n",
       "      <td>0.0</td>\n",
       "      <td>0.0</td>\n",
       "      <td>0.0</td>\n",
       "    </tr>\n",
       "    <tr>\n",
       "      <th>2</th>\n",
       "      <td>1970</td>\n",
       "      <td>1</td>\n",
       "      <td>0</td>\n",
       "      <td>160</td>\n",
       "      <td>Philippines</td>\n",
       "      <td>5</td>\n",
       "      <td>Southeast Asia</td>\n",
       "      <td>Tarlac</td>\n",
       "      <td>15.478598</td>\n",
       "      <td>120.599741</td>\n",
       "      <td>Assassination</td>\n",
       "      <td>Unknown</td>\n",
       "      <td>Unknown</td>\n",
       "      <td>1.0</td>\n",
       "      <td>0.0</td>\n",
       "      <td>1.0</td>\n",
       "    </tr>\n",
       "    <tr>\n",
       "      <th>3</th>\n",
       "      <td>1970</td>\n",
       "      <td>1</td>\n",
       "      <td>0</td>\n",
       "      <td>78</td>\n",
       "      <td>Greece</td>\n",
       "      <td>8</td>\n",
       "      <td>Western Europe</td>\n",
       "      <td>Attica</td>\n",
       "      <td>37.997490</td>\n",
       "      <td>23.762728</td>\n",
       "      <td>Bombing/Explosion</td>\n",
       "      <td>Unknown</td>\n",
       "      <td>Explosives</td>\n",
       "      <td>NaN</td>\n",
       "      <td>NaN</td>\n",
       "      <td>NaN</td>\n",
       "    </tr>\n",
       "    <tr>\n",
       "      <th>4</th>\n",
       "      <td>1970</td>\n",
       "      <td>1</td>\n",
       "      <td>0</td>\n",
       "      <td>101</td>\n",
       "      <td>Japan</td>\n",
       "      <td>4</td>\n",
       "      <td>East Asia</td>\n",
       "      <td>Fukouka</td>\n",
       "      <td>33.580412</td>\n",
       "      <td>130.396361</td>\n",
       "      <td>Facility/Infrastructure Attack</td>\n",
       "      <td>Unknown</td>\n",
       "      <td>Incendiary</td>\n",
       "      <td>NaN</td>\n",
       "      <td>NaN</td>\n",
       "      <td>NaN</td>\n",
       "    </tr>\n",
       "  </tbody>\n",
       "</table>\n",
       "</div>"
      ],
      "text/plain": [
       "   iyear  mes  extended  country            NCountry region  \\\n",
       "0   1970    7         0       58  Dominican Republic      2   \n",
       "1   1970    0         0      130              Mexico      1   \n",
       "2   1970    1         0      160         Philippines      5   \n",
       "3   1970    1         0       78              Greece      8   \n",
       "4   1970    1         0      101               Japan      4   \n",
       "\n",
       "                        region provstate   latitude   longitude  \\\n",
       "0  Central America & Caribbean       NaN  18.456792  -69.951164   \n",
       "1                North America   Federal  19.371887  -99.086624   \n",
       "2               Southeast Asia    Tarlac  15.478598  120.599741   \n",
       "3               Western Europe    Attica  37.997490   23.762728   \n",
       "4                    East Asia   Fukouka  33.580412  130.396361   \n",
       "\n",
       "                  attacktype1_txt                               gname  \\\n",
       "0                   Assassination                              MANO-D   \n",
       "1     Hostage Taking (Kidnapping)  23rd of September Communist League   \n",
       "2                   Assassination                             Unknown   \n",
       "3               Bombing/Explosion                             Unknown   \n",
       "4  Facility/Infrastructure Attack                             Unknown   \n",
       "\n",
       "  weaptype1_txt  killed  herido  afectados  \n",
       "0       Unknown     1.0     0.0        1.0  \n",
       "1       Unknown     0.0     0.0        0.0  \n",
       "2       Unknown     1.0     0.0        1.0  \n",
       "3    Explosives     NaN     NaN        NaN  \n",
       "4    Incendiary     NaN     NaN        NaN  "
      ]
     },
     "execution_count": 43,
     "metadata": {},
     "output_type": "execute_result"
    }
   ],
   "source": [
    "import pandas as pd\n",
    "import numpy as np\n",
    "import requests as req\n",
    "from bs4 import BeautifulSoup\n",
    "import matplotlib.pyplot as plt\n",
    "import seaborn as sns\n",
    "from reportlab.pdfgen import *\n",
    "from reportlab.lib.pagesizes import A4, letter\n",
    "import time\n",
    "from fpdf import *  \n",
    "from email.mime.multipart import MIMEMultipart\n",
    "from email.mime.text import MIMEText\n",
    "from email.mime.application import MIMEApplication\n",
    "\n",
    "\n",
    "\n",
    "\n",
    "df=pd.read_csv('gtd.csv', encoding=\"ISO-8859-1\")\n",
    "df1 = df.drop(columns=[\"Unnamed: 0\",\"vicinity\"])\n",
    "df1.rename(columns={'imonth':'mes','country_txt':'NCountry','region_txt':'region','nkill':'killed', 'nwound':'herido'},inplace=True)\n",
    "df1[\"afectados\"]= df1[\"killed\"]+ df1[\"herido\"]\n",
    "df1.head()"
   ]
  },
  {
   "cell_type": "code",
   "execution_count": 2,
   "metadata": {},
   "outputs": [],
   "source": [
    "#URL a scrapear\n",
    "url = 'https://countrycode.org'"
   ]
  },
  {
   "cell_type": "code",
   "execution_count": 3,
   "metadata": {},
   "outputs": [
    {
     "data": {
      "text/plain": [
       "240"
      ]
     },
     "execution_count": 3,
     "metadata": {},
     "output_type": "execute_result"
    }
   ],
   "source": [
    "def scrapear(url, css):\n",
    "    res = req.get(url)\n",
    "    soup = BeautifulSoup(res.text, 'html.parser')\n",
    "    ss = soup.select(css)\n",
    "    l=list(map(lambda x : x.text.strip(),ss))\n",
    "    return l\n",
    "\n",
    "pais =scrapear(url, \"tr td a\")\n",
    "eco=scrapear(url, \"tr td\")[3::6]\n",
    "ec=eco[:240]\n",
    "\n",
    "paises= pais[:240]\n",
    "pas=scrapear(url, \"tr td\")[5::6]\n",
    "pasta=pas[:240]\n",
    "len(paises)"
   ]
  },
  {
   "cell_type": "code",
   "execution_count": 4,
   "metadata": {},
   "outputs": [
    {
     "data": {
      "text/html": [
       "<div>\n",
       "<style scoped>\n",
       "    .dataframe tbody tr th:only-of-type {\n",
       "        vertical-align: middle;\n",
       "    }\n",
       "\n",
       "    .dataframe tbody tr th {\n",
       "        vertical-align: top;\n",
       "    }\n",
       "\n",
       "    .dataframe thead th {\n",
       "        text-align: right;\n",
       "    }\n",
       "</style>\n",
       "<table border=\"1\" class=\"dataframe\">\n",
       "  <thead>\n",
       "    <tr style=\"text-align: right;\">\n",
       "      <th></th>\n",
       "      <th>paises</th>\n",
       "      <th>pob</th>\n",
       "      <th>pasta</th>\n",
       "    </tr>\n",
       "  </thead>\n",
       "  <tbody>\n",
       "    <tr>\n",
       "      <th>0</th>\n",
       "      <td>Afghanistan</td>\n",
       "      <td>29,121,286</td>\n",
       "      <td>20.65 Billion</td>\n",
       "    </tr>\n",
       "    <tr>\n",
       "      <th>1</th>\n",
       "      <td>Albania</td>\n",
       "      <td>2,986,952</td>\n",
       "      <td>12.8 Billion</td>\n",
       "    </tr>\n",
       "    <tr>\n",
       "      <th>2</th>\n",
       "      <td>Algeria</td>\n",
       "      <td>34,586,184</td>\n",
       "      <td>215.7 Billion</td>\n",
       "    </tr>\n",
       "    <tr>\n",
       "      <th>3</th>\n",
       "      <td>American Samoa</td>\n",
       "      <td>57,881</td>\n",
       "      <td>462.2 Million</td>\n",
       "    </tr>\n",
       "    <tr>\n",
       "      <th>4</th>\n",
       "      <td>Andorra</td>\n",
       "      <td>84,000</td>\n",
       "      <td>4.8 Billion</td>\n",
       "    </tr>\n",
       "  </tbody>\n",
       "</table>\n",
       "</div>"
      ],
      "text/plain": [
       "           paises         pob          pasta\n",
       "0     Afghanistan  29,121,286  20.65 Billion\n",
       "1         Albania   2,986,952   12.8 Billion\n",
       "2         Algeria  34,586,184  215.7 Billion\n",
       "3  American Samoa      57,881  462.2 Million\n",
       "4         Andorra      84,000    4.8 Billion"
      ]
     },
     "execution_count": 4,
     "metadata": {},
     "output_type": "execute_result"
    }
   ],
   "source": [
    "pai=pd.DataFrame()\n",
    "pai[\"paises\"]= paises\n",
    "pai[\"pob\"]= ec\n",
    "pai[\"pasta\"]= pasta\n",
    "\n",
    "pai.head()"
   ]
  },
  {
   "cell_type": "code",
   "execution_count": 5,
   "metadata": {},
   "outputs": [
    {
     "data": {
      "text/html": [
       "<div>\n",
       "<style scoped>\n",
       "    .dataframe tbody tr th:only-of-type {\n",
       "        vertical-align: middle;\n",
       "    }\n",
       "\n",
       "    .dataframe tbody tr th {\n",
       "        vertical-align: top;\n",
       "    }\n",
       "\n",
       "    .dataframe thead th {\n",
       "        text-align: right;\n",
       "    }\n",
       "</style>\n",
       "<table border=\"1\" class=\"dataframe\">\n",
       "  <thead>\n",
       "    <tr style=\"text-align: right;\">\n",
       "      <th></th>\n",
       "      <th>paises</th>\n",
       "      <th>pob</th>\n",
       "      <th>pasta</th>\n",
       "      <th>iyear</th>\n",
       "      <th>mes</th>\n",
       "      <th>extended</th>\n",
       "      <th>country</th>\n",
       "      <th>NCountry</th>\n",
       "      <th>region</th>\n",
       "      <th>region</th>\n",
       "      <th>provstate</th>\n",
       "      <th>latitude</th>\n",
       "      <th>longitude</th>\n",
       "      <th>attacktype1_txt</th>\n",
       "      <th>gname</th>\n",
       "      <th>weaptype1_txt</th>\n",
       "      <th>killed</th>\n",
       "      <th>herido</th>\n",
       "      <th>afectados</th>\n",
       "    </tr>\n",
       "  </thead>\n",
       "  <tbody>\n",
       "    <tr>\n",
       "      <th>0</th>\n",
       "      <td>Afghanistan</td>\n",
       "      <td>29,121,286</td>\n",
       "      <td>20.65 Billion</td>\n",
       "      <td>1973</td>\n",
       "      <td>5</td>\n",
       "      <td>0</td>\n",
       "      <td>4</td>\n",
       "      <td>Afghanistan</td>\n",
       "      <td>6</td>\n",
       "      <td>South Asia</td>\n",
       "      <td>Kabul</td>\n",
       "      <td>34.516895</td>\n",
       "      <td>69.147011</td>\n",
       "      <td>Unknown</td>\n",
       "      <td>Black December</td>\n",
       "      <td>Unknown</td>\n",
       "      <td>0.0</td>\n",
       "      <td>1.0</td>\n",
       "      <td>1.0</td>\n",
       "    </tr>\n",
       "    <tr>\n",
       "      <th>1</th>\n",
       "      <td>Afghanistan</td>\n",
       "      <td>29,121,286</td>\n",
       "      <td>20.65 Billion</td>\n",
       "      <td>1979</td>\n",
       "      <td>2</td>\n",
       "      <td>0</td>\n",
       "      <td>4</td>\n",
       "      <td>Afghanistan</td>\n",
       "      <td>6</td>\n",
       "      <td>South Asia</td>\n",
       "      <td>Kabul</td>\n",
       "      <td>34.516895</td>\n",
       "      <td>69.147011</td>\n",
       "      <td>Hostage Taking (Kidnapping)</td>\n",
       "      <td>Shia Muslim extremists</td>\n",
       "      <td>Unknown</td>\n",
       "      <td>1.0</td>\n",
       "      <td>0.0</td>\n",
       "      <td>1.0</td>\n",
       "    </tr>\n",
       "    <tr>\n",
       "      <th>2</th>\n",
       "      <td>Afghanistan</td>\n",
       "      <td>29,121,286</td>\n",
       "      <td>20.65 Billion</td>\n",
       "      <td>1979</td>\n",
       "      <td>8</td>\n",
       "      <td>0</td>\n",
       "      <td>4</td>\n",
       "      <td>Afghanistan</td>\n",
       "      <td>6</td>\n",
       "      <td>South Asia</td>\n",
       "      <td>Ghazni</td>\n",
       "      <td>33.542622</td>\n",
       "      <td>68.415329</td>\n",
       "      <td>Bombing/Explosion</td>\n",
       "      <td>Muslim Guerrillas</td>\n",
       "      <td>Explosives</td>\n",
       "      <td>50.0</td>\n",
       "      <td>0.0</td>\n",
       "      <td>50.0</td>\n",
       "    </tr>\n",
       "    <tr>\n",
       "      <th>3</th>\n",
       "      <td>Afghanistan</td>\n",
       "      <td>29,121,286</td>\n",
       "      <td>20.65 Billion</td>\n",
       "      <td>1979</td>\n",
       "      <td>9</td>\n",
       "      <td>0</td>\n",
       "      <td>4</td>\n",
       "      <td>Afghanistan</td>\n",
       "      <td>6</td>\n",
       "      <td>South Asia</td>\n",
       "      <td>Herat</td>\n",
       "      <td>34.346722</td>\n",
       "      <td>62.197315</td>\n",
       "      <td>Armed Assault</td>\n",
       "      <td>Muslim Guerrillas</td>\n",
       "      <td>Firearms</td>\n",
       "      <td>2.0</td>\n",
       "      <td>1.0</td>\n",
       "      <td>3.0</td>\n",
       "    </tr>\n",
       "    <tr>\n",
       "      <th>4</th>\n",
       "      <td>Afghanistan</td>\n",
       "      <td>29,121,286</td>\n",
       "      <td>20.65 Billion</td>\n",
       "      <td>1987</td>\n",
       "      <td>5</td>\n",
       "      <td>0</td>\n",
       "      <td>4</td>\n",
       "      <td>Afghanistan</td>\n",
       "      <td>6</td>\n",
       "      <td>South Asia</td>\n",
       "      <td>Unknown</td>\n",
       "      <td>NaN</td>\n",
       "      <td>NaN</td>\n",
       "      <td>Unarmed Assault</td>\n",
       "      <td>Afghan Mujahideen</td>\n",
       "      <td>Chemical</td>\n",
       "      <td>0.0</td>\n",
       "      <td>2.0</td>\n",
       "      <td>2.0</td>\n",
       "    </tr>\n",
       "  </tbody>\n",
       "</table>\n",
       "</div>"
      ],
      "text/plain": [
       "        paises         pob          pasta  iyear  mes  extended  country  \\\n",
       "0  Afghanistan  29,121,286  20.65 Billion   1973    5         0        4   \n",
       "1  Afghanistan  29,121,286  20.65 Billion   1979    2         0        4   \n",
       "2  Afghanistan  29,121,286  20.65 Billion   1979    8         0        4   \n",
       "3  Afghanistan  29,121,286  20.65 Billion   1979    9         0        4   \n",
       "4  Afghanistan  29,121,286  20.65 Billion   1987    5         0        4   \n",
       "\n",
       "      NCountry region      region provstate   latitude  longitude  \\\n",
       "0  Afghanistan      6  South Asia     Kabul  34.516895  69.147011   \n",
       "1  Afghanistan      6  South Asia     Kabul  34.516895  69.147011   \n",
       "2  Afghanistan      6  South Asia    Ghazni  33.542622  68.415329   \n",
       "3  Afghanistan      6  South Asia     Herat  34.346722  62.197315   \n",
       "4  Afghanistan      6  South Asia   Unknown        NaN        NaN   \n",
       "\n",
       "               attacktype1_txt                   gname weaptype1_txt  killed  \\\n",
       "0                      Unknown          Black December       Unknown     0.0   \n",
       "1  Hostage Taking (Kidnapping)  Shia Muslim extremists       Unknown     1.0   \n",
       "2            Bombing/Explosion       Muslim Guerrillas    Explosives    50.0   \n",
       "3                Armed Assault       Muslim Guerrillas      Firearms     2.0   \n",
       "4              Unarmed Assault       Afghan Mujahideen      Chemical     0.0   \n",
       "\n",
       "   herido  afectados  \n",
       "0     1.0        1.0  \n",
       "1     0.0        1.0  \n",
       "2     0.0       50.0  \n",
       "3     1.0        3.0  \n",
       "4     2.0        2.0  "
      ]
     },
     "execution_count": 5,
     "metadata": {},
     "output_type": "execute_result"
    }
   ],
   "source": [
    "merged = pai.merge(df1, left_on = 'paises', right_on = 'NCountry')\n",
    "merged.head()"
   ]
  },
  {
   "cell_type": "code",
   "execution_count": 7,
   "metadata": {},
   "outputs": [
    {
     "name": "stdout",
     "output_type": "stream",
     "text": [
      "Informe Contraterrorismo\n",
      "Los actos violentos perpetrados por organizaciones no estatales contra la población general con fines políticos son delitos aberrantes que, cuando tienen carácter generalizado o sistemático, pueden constituir crímenes de lesa humanidadLos actos violentos perpetrados por organizaciones no estatales contra la población general con fines políticos son delitos aberrantes que, cuando tienen carácter generalizado o sistemático, pueden constituir crímenes de lesa humanidad\n",
      "Genera un reporte. ¿De qué pais quieres información? Introduce el pais deseado en inglés:\n",
      "\n"
     ]
    }
   ],
   "source": [
    "print(\"Informe Contraterrorismo\")\n",
    "print(\"Los actos violentos perpetrados por organizaciones no estatales contra la población general con fines políticos son delitos aberrantes que, cuando tienen carácter generalizado o sistemático, pueden constituir crímenes de lesa humanidadLos actos violentos perpetrados por organizaciones no estatales contra la población general con fines políticos son delitos aberrantes que, cuando tienen carácter generalizado o sistemático, pueden constituir crímenes de lesa humanidad\")\n",
    "print(\"Genera un reporte. ¿De qué pais quieres información? Introduce el pais deseado en inglés:\")\n",
    "\n",
    "print(\"\")\n",
    "#print('Maximum people killed in an attack are:',merged[merged['NCountry']=={npais}],'that took place in',merged.loc[merged['afectados'].idxmax()].NCountry=={npais})\n"
   ]
  },
  {
   "cell_type": "code",
   "execution_count": 8,
   "metadata": {},
   "outputs": [],
   "source": [
    "comprobar=list(set(merged.NCountry.values))\n"
   ]
  },
  {
   "cell_type": "code",
   "execution_count": 9,
   "metadata": {},
   "outputs": [
    {
     "name": "stdout",
     "output_type": "stream",
     "text": [
      "quieres saber los paises disponibles?\n",
      "[Y/n]: n\n"
     ]
    }
   ],
   "source": [
    "while True:\n",
    "    try:\n",
    "        print(\"quieres saber los paises disponibles?\")\n",
    "        x = str(input(\"[Y/n]: \").lower())\n",
    "        if x==\"y\" or x==\"Yes\" or x==\"s\" or x==\"si\": \n",
    "            print(', '.join(comprobar))\n",
    "            break\n",
    "        elif x==\"n\" or x==\"no\":\n",
    "            break\n",
    "        else: raise TypeError\n",
    "    except TypeError:\n",
    "        print(\"Escribe bien si o no.\")\n",
    "        continue "
   ]
  },
  {
   "cell_type": "code",
   "execution_count": 48,
   "metadata": {},
   "outputs": [
    {
     "name": "stdout",
     "output_type": "stream",
     "text": [
      "Bienvenido al generador de informes sobre Contraterrorismo\n",
      "elige el pais en inglés: asd\n",
      "Escribe bien el pais.\n",
      "elige el pais en inglés: spain\n",
      "generando informe sobre Spain...\n",
      "Cargando datos sobre Spain...\n"
     ]
    }
   ],
   "source": [
    "print(\"Bienvenido al generador de informes sobre Contraterrorismo\")\n",
    "\n",
    "while True:\n",
    "    try:\n",
    "        npais = str(input(\"elige el pais en inglés: \").capitalize())\n",
    "        if npais in comprobar: \n",
    "            print(\"generando informe sobre {}...\".format(npais))\n",
    "            print(\"Cargando datos sobre {}...\".format(npais))\n",
    "            break\n",
    "        else: raise TypeError\n",
    "    except TypeError:\n",
    "        print(\"Escribe bien el pais.\")\n",
    "        continue \n",
    "\n",
    "        \n",
    "bd=merged[merged[\"NCountry\"]==npais]"
   ]
  },
  {
   "cell_type": "code",
   "execution_count": 49,
   "metadata": {},
   "outputs": [],
   "source": [
    "anho=bd.iyear.value_counts().index[0]\n",
    "num=bd.iyear.value_counts().values[0]\n",
    "ratio_anho=round(8760/num)"
   ]
  },
  {
   "cell_type": "code",
   "execution_count": 50,
   "metadata": {},
   "outputs": [
    {
     "name": "stdout",
     "output_type": "stream",
     "text": [
      "¿Sabias que el peor año de Spain fue 1979 donde habia un ataque cada 31.0 horas de media?\n"
     ]
    }
   ],
   "source": [
    "print(\"¿Sabias que el peor año de {} fue {} donde habia un ataque cada {} horas de media?\".format(npais,anho,ratio_anho))"
   ]
  },
  {
   "cell_type": "code",
   "execution_count": null,
   "metadata": {},
   "outputs": [],
   "source": [
    "#tengo hecho funciones hasta aqui"
   ]
  },
  {
   "cell_type": "code",
   "execution_count": 13,
   "metadata": {},
   "outputs": [
    {
     "data": {
      "text/html": [
       "<div>\n",
       "<style scoped>\n",
       "    .dataframe tbody tr th:only-of-type {\n",
       "        vertical-align: middle;\n",
       "    }\n",
       "\n",
       "    .dataframe tbody tr th {\n",
       "        vertical-align: top;\n",
       "    }\n",
       "\n",
       "    .dataframe thead th {\n",
       "        text-align: right;\n",
       "    }\n",
       "</style>\n",
       "<table border=\"1\" class=\"dataframe\">\n",
       "  <thead>\n",
       "    <tr style=\"text-align: right;\">\n",
       "      <th></th>\n",
       "      <th>paises</th>\n",
       "      <th>pob</th>\n",
       "      <th>pasta</th>\n",
       "      <th>iyear</th>\n",
       "      <th>mes</th>\n",
       "      <th>extended</th>\n",
       "      <th>country</th>\n",
       "      <th>NCountry</th>\n",
       "      <th>region</th>\n",
       "      <th>region</th>\n",
       "      <th>provstate</th>\n",
       "      <th>latitude</th>\n",
       "      <th>longitude</th>\n",
       "      <th>attacktype1_txt</th>\n",
       "      <th>gname</th>\n",
       "      <th>weaptype1_txt</th>\n",
       "      <th>killed</th>\n",
       "      <th>herido</th>\n",
       "      <th>afectados</th>\n",
       "    </tr>\n",
       "  </thead>\n",
       "  <tbody>\n",
       "    <tr>\n",
       "      <th>136279</th>\n",
       "      <td>Russia</td>\n",
       "      <td>140,702,000</td>\n",
       "      <td>2.113 Trillion</td>\n",
       "      <td>1992</td>\n",
       "      <td>1</td>\n",
       "      <td>0</td>\n",
       "      <td>167</td>\n",
       "      <td>Russia</td>\n",
       "      <td>9</td>\n",
       "      <td>Eastern Europe</td>\n",
       "      <td>Chechnya</td>\n",
       "      <td>43.320229</td>\n",
       "      <td>45.654491</td>\n",
       "      <td>Assassination</td>\n",
       "      <td>Unknown</td>\n",
       "      <td>Firearms</td>\n",
       "      <td>0.0</td>\n",
       "      <td>0.0</td>\n",
       "      <td>0.0</td>\n",
       "    </tr>\n",
       "    <tr>\n",
       "      <th>136280</th>\n",
       "      <td>Russia</td>\n",
       "      <td>140,702,000</td>\n",
       "      <td>2.113 Trillion</td>\n",
       "      <td>1992</td>\n",
       "      <td>1</td>\n",
       "      <td>0</td>\n",
       "      <td>167</td>\n",
       "      <td>Russia</td>\n",
       "      <td>9</td>\n",
       "      <td>Eastern Europe</td>\n",
       "      <td>Chechnya</td>\n",
       "      <td>43.320229</td>\n",
       "      <td>45.654491</td>\n",
       "      <td>Armed Assault</td>\n",
       "      <td>Unknown</td>\n",
       "      <td>Firearms</td>\n",
       "      <td>1.0</td>\n",
       "      <td>0.0</td>\n",
       "      <td>1.0</td>\n",
       "    </tr>\n",
       "    <tr>\n",
       "      <th>136281</th>\n",
       "      <td>Russia</td>\n",
       "      <td>140,702,000</td>\n",
       "      <td>2.113 Trillion</td>\n",
       "      <td>1992</td>\n",
       "      <td>1</td>\n",
       "      <td>0</td>\n",
       "      <td>167</td>\n",
       "      <td>Russia</td>\n",
       "      <td>9</td>\n",
       "      <td>Eastern Europe</td>\n",
       "      <td>Dagestan</td>\n",
       "      <td>42.985420</td>\n",
       "      <td>47.450668</td>\n",
       "      <td>Assassination</td>\n",
       "      <td>Unknown</td>\n",
       "      <td>Explosives</td>\n",
       "      <td>0.0</td>\n",
       "      <td>1.0</td>\n",
       "      <td>1.0</td>\n",
       "    </tr>\n",
       "    <tr>\n",
       "      <th>136282</th>\n",
       "      <td>Russia</td>\n",
       "      <td>140,702,000</td>\n",
       "      <td>2.113 Trillion</td>\n",
       "      <td>1992</td>\n",
       "      <td>2</td>\n",
       "      <td>0</td>\n",
       "      <td>167</td>\n",
       "      <td>Russia</td>\n",
       "      <td>9</td>\n",
       "      <td>Eastern Europe</td>\n",
       "      <td>Chechnya</td>\n",
       "      <td>43.320229</td>\n",
       "      <td>45.654491</td>\n",
       "      <td>Unknown</td>\n",
       "      <td>Unknown</td>\n",
       "      <td>Unknown</td>\n",
       "      <td>0.0</td>\n",
       "      <td>0.0</td>\n",
       "      <td>0.0</td>\n",
       "    </tr>\n",
       "    <tr>\n",
       "      <th>136283</th>\n",
       "      <td>Russia</td>\n",
       "      <td>140,702,000</td>\n",
       "      <td>2.113 Trillion</td>\n",
       "      <td>1992</td>\n",
       "      <td>2</td>\n",
       "      <td>0</td>\n",
       "      <td>167</td>\n",
       "      <td>Russia</td>\n",
       "      <td>9</td>\n",
       "      <td>Eastern Europe</td>\n",
       "      <td>Saint Petersburg</td>\n",
       "      <td>59.853371</td>\n",
       "      <td>30.348433</td>\n",
       "      <td>Bombing/Explosion</td>\n",
       "      <td>Unknown</td>\n",
       "      <td>Explosives</td>\n",
       "      <td>0.0</td>\n",
       "      <td>0.0</td>\n",
       "      <td>0.0</td>\n",
       "    </tr>\n",
       "  </tbody>\n",
       "</table>\n",
       "</div>"
      ],
      "text/plain": [
       "        paises          pob           pasta  iyear  mes  extended  country  \\\n",
       "136279  Russia  140,702,000  2.113 Trillion   1992    1         0      167   \n",
       "136280  Russia  140,702,000  2.113 Trillion   1992    1         0      167   \n",
       "136281  Russia  140,702,000  2.113 Trillion   1992    1         0      167   \n",
       "136282  Russia  140,702,000  2.113 Trillion   1992    2         0      167   \n",
       "136283  Russia  140,702,000  2.113 Trillion   1992    2         0      167   \n",
       "\n",
       "       NCountry region          region         provstate   latitude  \\\n",
       "136279   Russia      9  Eastern Europe          Chechnya  43.320229   \n",
       "136280   Russia      9  Eastern Europe          Chechnya  43.320229   \n",
       "136281   Russia      9  Eastern Europe          Dagestan  42.985420   \n",
       "136282   Russia      9  Eastern Europe          Chechnya  43.320229   \n",
       "136283   Russia      9  Eastern Europe  Saint Petersburg  59.853371   \n",
       "\n",
       "        longitude    attacktype1_txt    gname weaptype1_txt  killed  herido  \\\n",
       "136279  45.654491      Assassination  Unknown      Firearms     0.0     0.0   \n",
       "136280  45.654491      Armed Assault  Unknown      Firearms     1.0     0.0   \n",
       "136281  47.450668      Assassination  Unknown    Explosives     0.0     1.0   \n",
       "136282  45.654491            Unknown  Unknown       Unknown     0.0     0.0   \n",
       "136283  30.348433  Bombing/Explosion  Unknown    Explosives     0.0     0.0   \n",
       "\n",
       "        afectados  \n",
       "136279        0.0  \n",
       "136280        1.0  \n",
       "136281        1.0  \n",
       "136282        0.0  \n",
       "136283        0.0  "
      ]
     },
     "execution_count": 13,
     "metadata": {},
     "output_type": "execute_result"
    }
   ],
   "source": [
    "bd.head()"
   ]
  },
  {
   "cell_type": "code",
   "execution_count": 14,
   "metadata": {},
   "outputs": [
    {
     "data": {
      "text/plain": [
       "'Chechen Rebels'"
      ]
     },
     "execution_count": 14,
     "metadata": {},
     "output_type": "execute_result"
    }
   ],
   "source": [
    "cel=bd.gname.value_counts().index[0]\n",
    "if cel==\"Unknown\":\n",
    "    cel=bd.gname.value_counts().index[1]\n",
    "cel"
   ]
  },
  {
   "cell_type": "code",
   "execution_count": 15,
   "metadata": {},
   "outputs": [
    {
     "data": {
      "image/png": "[encoded data removed]",
      "text/plain": [
       "<Figure size 1080x432 with 1 Axes>"
      ]
     },
     "metadata": {
      "needs_background": "light"
     },
     "output_type": "display_data"
    }
   ],
   "source": [
    "plt.subplots(figsize=(15,6))\n",
    "sns.countplot('gname',data=bd,palette='inferno',order=bd.gname.value_counts()[:15].index)\n",
    "plt.xticks(rotation=90)\n",
    "plt.legend(\"\")\n",
    "plt.title('Actos cometidos por cada organización en {}'.format(npais))\n",
    "plt.savefig('bandas.png')\n",
    "plt.show()"
   ]
  },
  {
   "cell_type": "code",
   "execution_count": 16,
   "metadata": {},
   "outputs": [
    {
     "data": {
      "image/png": "[encoded data removed]",
      "text/plain": [
       "<Figure size 1080x432 with 1 Axes>"
      ]
     },
     "metadata": {
      "needs_background": "light"
     },
     "output_type": "display_data"
    }
   ],
   "source": [
    "plt.subplots(figsize=(15,6))\n",
    "sns.countplot('attacktype1_txt',data=bd,palette='inferno',order=bd['attacktype1_txt'].value_counts().index)\n",
    "plt.xticks(rotation=90)\n",
    "plt.title('Metodo preferido por los terroristas en {}'.format(npais))\n",
    "plt.savefig('metodos.png', dpi=200)\n",
    "plt.show()"
   ]
  },
  {
   "cell_type": "code",
   "execution_count": 17,
   "metadata": {},
   "outputs": [
    {
     "data": {
      "image/png": "[encoded data removed]",
      "text/plain": [
       "<Figure size 1296x432 with 1 Axes>"
      ]
     },
     "metadata": {
      "needs_background": "light"
     },
     "output_type": "display_data"
    }
   ],
   "source": [
    "coun_terror=bd['NCountry'].value_counts()[:15].to_frame()\n",
    "coun_terror.columns=['Ataques']\n",
    "coun_kill=bd.groupby('NCountry')['killed'].sum().to_frame()\n",
    "coun_terror.merge(coun_kill,left_index=True,right_index=True,how='left').plot.bar(width=0.9)\n",
    "fig=plt.gcf()\n",
    "fig.set_size_inches(18,6)\n",
    "plt.title('Ataques vs muertos {}'.format(npais))\n",
    "fig.savefig('ataques.png', dpi=fig.dpi)\n",
    "plt.show()"
   ]
  },
  {
   "cell_type": "code",
   "execution_count": 18,
   "metadata": {},
   "outputs": [
    {
     "data": {
      "image/png": "[encoded data removed]",
      "text/plain": [
       "<Figure size 1296x432 with 1 Axes>"
      ]
     },
     "metadata": {
      "needs_background": "light"
     },
     "output_type": "display_data"
    }
   ],
   "source": [
    "plt.subplots(figsize=(18,6))\n",
    "sns.barplot(merged['NCountry'].value_counts()[:15].index,merged['NCountry'].value_counts()[:15].values,palette='Blues_d')\n",
    "plt.title('Top Affected Countries')\n",
    "plt.show()"
   ]
  },
  {
   "cell_type": "code",
   "execution_count": 19,
   "metadata": {},
   "outputs": [],
   "source": [
    "tiempo=time.asctime( time.localtime(time.time()))"
   ]
  },
  {
   "cell_type": "code",
   "execution_count": 20,
   "metadata": {},
   "outputs": [
    {
     "data": {
      "text/plain": [
       "''"
      ]
     },
     "execution_count": 20,
     "metadata": {},
     "output_type": "execute_result"
    }
   ],
   "source": [
    "pdf=FPDF()                             # por defecto se crea en formato dinA4, explicitamente FPDF('P', 'mm', 'A4')\n",
    "\n",
    "pdf.add_page()                         # se añade una pagina, origen arriba a la izq a 1cm\n",
    "\n",
    "#pdf.set_margins()                     # se pueden ajustar los margenes , set_top_margin, set_left_margin, set_right_margin, set_auto_page_break\n",
    "\n",
    "pdf.set_font('Arial', 'B', 16)\n",
    "pdf.image('logo.png', x=20, y=20, w=25, h=25, type = '', link = '')\n",
    "pdf.cell(60) \n",
    "pdf.cell(70, 60, 'Informe de Contraterrorismo')       \n",
    "pdf.line(5, 55, 200, 55)\n",
    "pdf.set_font('Arial', '', 12)\n",
    "pdf.cell(-20)  \n",
    "pdf.cell(20, 100, 'pais: {}'.format(npais))\n",
    "pdf.cell(-120)\n",
    "pdf.cell(20, 110, 'fecha: {}'.format(tiempo))\n",
    "pdf.cell(60)  \n",
    "pdf.set_font('Arial', 'B', 16)\n",
    "pdf.cell(-80)\n",
    "pdf.cell(10, 125, 'Puntos clave del informe')\n",
    "pdf.set_font('Arial', '', 12)\n",
    "pdf.cell(-10)\n",
    "pdf.cell(10, 140,\"· Peor año de {} fue {}. Año donde había un atentado cada {} horas.\".format(npais,anho,ratio_anho))\n",
    "pdf.cell(-10)\n",
    "pdf.cell(10, 150,\"· Principal grupo organizado: {}. En total ha realizado x Ataques\".format(cel))\n",
    "pdf.cell(-10)\n",
    "pdf.cell(10, 160,\"· Probabilidad x cada 100k habitantes de sufrir un atentado: {}.\".format(npais))\n",
    "pdf.cell(-10)\n",
    "pdf.set_font('Arial', 'B', 14)\n",
    "pdf.cell(10, 180,\"Nota al lector:\")\n",
    "pdf.set_font('Arial', '', 12)\n",
    "pdf.cell(-10)\n",
    "pdf.cell(10, 195,\"Los actos violentos perpetrados por organizaciones no estatales contra la población general\")\n",
    "pdf.cell(-10)\n",
    "pdf.cell(10, 205,\"con fines políticos son delitos aberrantes que, cuando tienen carácter generalizado\") \n",
    "pdf.cell(-10)\n",
    "pdf.cell(10, 215,\"o sistemático, pueden constituir crímenes de lesa humanidadLos actos violentos perpetrados\")\n",
    "pdf.cell(-10)\n",
    "pdf.cell(10, 225,\"por organizaciones no estatales contra la población general con fines políticos son delitos\") \n",
    "pdf.cell(-10)\n",
    "pdf.cell(10, 235,\"aberrantes que, cuando tienen carácter generalizado o sistemático, pueden constituir crímenes\")\n",
    "pdf.cell(-10)\n",
    "pdf.cell(10, 245,\"contra la humanidad.\")\n",
    "pdf.image('bandas.png', x=10, y=130, w=200, h=70, type = '', link = '')\n",
    "pdf.image('metodos.png', x=10, y=210, w=200, h=70, type = '', link = '')\n",
    "pdf.add_page()\n",
    "pdf.set_font('Arial', 'B', 16)\n",
    "pdf.image('logo.png', x=20, y=20, w=25, h=25, type = '', link = '')\n",
    "pdf.cell(60) \n",
    "pdf.cell(70, 80, 'Informe de Contraterrorismo')       \n",
    "pdf.line(5, 55, 200, 55)\n",
    "pdf.set_font('Arial', '', 12) \n",
    "pdf.cell(60)  \n",
    "pdf.set_font('Arial', '', 12)\n",
    "pdf.image('ataques.png', x=10, y=60, w=200, h=70, type = '', link = '')\n",
    "pdf.image('metodos.png', x=10, y=130, w=200, h=70, type = '', link = '')\n",
    "pdf.output('informe.pdf', 'F')      # guardado del pdf, en la misma carpeta que el archivo (nombre, destino)"
   ]
  },
  {
   "cell_type": "code",
   "execution_count": 45,
   "metadata": {},
   "outputs": [
    {
     "name": "stdout",
     "output_type": "stream",
     "text": [
      "Enter your password: ········\n",
      "Connected to gmail servers\n"
     ]
    }
   ],
   "source": [
    "import smtplib\n",
    "import getpass\n",
    "\n",
    "gmail_user = \"pacodatamad@gmail.com\"\n",
    "gmail_password = getpass.getpass(\"Enter your password: \")\n",
    "\n",
    "try:  \n",
    "    server = smtplib.SMTP_SSL('smtp.gmail.com', 465)\n",
    "    server.ehlo()\n",
    "    server.login(gmail_user, gmail_password)\n",
    "    print(\"Connected to gmail servers\")\n",
    "except:  \n",
    "    print(\"Something went wrong...\")"
   ]
  },
  {
   "cell_type": "code",
   "execution_count": 46,
   "metadata": {},
   "outputs": [
    {
     "name": "stdout",
     "output_type": "stream",
     "text": [
      "Who should receive the mail? --> fanesvag@gmail.com\n"
     ]
    },
    {
     "data": {
      "text/plain": [
       "{}"
      ]
     },
     "execution_count": 46,
     "metadata": {},
     "output_type": "execute_result"
    }
   ],
   "source": [
    "message = MIMEMultipart('alternative')\n",
    "message['Subject'] = 'Test'\n",
    "message['From'] = 'Servicio de inteligencia Ironhack'\n",
    "message.attach(MIMEText('A Headingomething else in the body'))\n",
    "\n",
    "# Adding pptx file attachment\n",
    "filename='informe.pdf'\n",
    "fo=open(filename,'rb')\n",
    "attach = email.mime.application.MIMEApplication(fo.read(),_subtype=\"pdf\")\n",
    "fo.close()\n",
    "attach.add_header('Content-Disposition','attachment',filename=filename)\n",
    " \n",
    "# Attachment and HTML to body message.\n",
    "message.attach(attach)\n",
    "\n",
    "#message.attach(MIMEText((\"informe.pdf\").read(), 'text'))\n",
    "to = input(\"¿Queieres recibirlo por mail? Escribe tu correo electrónico --> \")\n",
    "\n",
    "server.sendmail(gmail_user, to, message.as_string())"
   ]
  },
  {
   "cell_type": "code",
   "execution_count": null,
   "metadata": {},
   "outputs": [],
   "source": []
  },
  {
   "cell_type": "code",
   "execution_count": 47,
   "metadata": {},
   "outputs": [],
   "source": [
    "# Close connection\n",
    "server.close()"
   ]
  },
  {
   "cell_type": "code",
   "execution_count": null,
   "metadata": {},
   "outputs": [],
   "source": []
  }
 ],
 "metadata": {
  "kernelspec": {
   "display_name": "Python 3",
   "language": "python",
   "name": "python3"
  },
  "language_info": {
   "codemirror_mode": {
    "name": "ipython",
    "version": 3
   },
   "file_extension": ".py",
   "mimetype": "text/x-python",
   "name": "python",
   "nbconvert_exporter": "python",
   "pygments_lexer": "ipython3",
   "version": "3.7.2"
  }
 },
 "nbformat": 4,
 "nbformat_minor": 2
}
